{
 "cells": [
  {
   "cell_type": "markdown",
   "id": "c49fa4be",
   "metadata": {},
   "source": [
    "## Rock Paper Scissors Game Using Python between the Player and Computer"
   ]
  },
  {
   "cell_type": "code",
   "execution_count": 1,
   "id": "64b06017",
   "metadata": {},
   "outputs": [],
   "source": [
    "import random"
   ]
  },
  {
   "cell_type": "code",
   "execution_count": 6,
   "id": "6f6b8bc5",
   "metadata": {},
   "outputs": [
    {
     "name": "stdout",
     "output_type": "stream",
     "text": [
      "Select Rock, Paper or Scissors - Scissors\n",
      "The Computer selected -  rock\n",
      "Computer won!\n"
     ]
    }
   ],
   "source": [
    "player = input(\"Select Rock, Paper or Scissors - \").lower()\n",
    "computer = random.choice([\"Rock\",\"Paper\",\"Scissors\"]).lower()\n",
    "print(\"The Computer selected - \", computer)\n",
    "\n",
    "if player == \"rock\" and computer == \"paper\":\n",
    "    print(\"Computer won!\")\n",
    "elif player == \"paper\" and computer == \"scissors\":\n",
    "    print(\"Computer won!\")\n",
    "elif player == \"scissors\" and computer == \"rock\":\n",
    "    print(\"Computer won!\")\n",
    "elif player==computer:\n",
    "    print(\"It's a Tie\")\n",
    "else:\n",
    "    print(\"Player won!\")"
   ]
  },
  {
   "cell_type": "code",
   "execution_count": null,
   "id": "c393478a",
   "metadata": {},
   "outputs": [],
   "source": []
  }
 ],
 "metadata": {
  "kernelspec": {
   "display_name": "Python 3 (ipykernel)",
   "language": "python",
   "name": "python3"
  },
  "language_info": {
   "codemirror_mode": {
    "name": "ipython",
    "version": 3
   },
   "file_extension": ".py",
   "mimetype": "text/x-python",
   "name": "python",
   "nbconvert_exporter": "python",
   "pygments_lexer": "ipython3",
   "version": "3.11.5"
  }
 },
 "nbformat": 4,
 "nbformat_minor": 5
}
